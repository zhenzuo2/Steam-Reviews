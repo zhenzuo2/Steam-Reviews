{
 "cells": [
  {
   "cell_type": "code",
   "execution_count": 1,
   "metadata": {
    "collapsed": true
   },
   "outputs": [],
   "source": [
    "from bs4 import BeautifulSoup"
   ]
  },
  {
   "cell_type": "code",
   "execution_count": 2,
   "metadata": {
    "collapsed": true
   },
   "outputs": [],
   "source": [
    "with open(r\"top250.html\", \"r\", encoding=\"ISO-8859-1\") as f:\n",
    "    page = f.read()\n",
    "soup = BeautifulSoup(page, 'html.parser')"
   ]
  },
  {
   "cell_type": "code",
   "execution_count": 3,
   "metadata": {
    "collapsed": true,
    "scrolled": false
   },
   "outputs": [],
   "source": [
    "top_list = []\n",
    "l = len(soup.findAll(\"td\", {\"class\": \"add\"}))\n",
    "for i in range(1,l):\n",
    "    top_list = top_list + [soup.findAll(\"td\", {\"class\": \"add\"})[i][\"data-appid\"]]"
   ]
  },
  {
   "cell_type": "code",
   "execution_count": 4,
   "metadata": {
    "collapsed": true
   },
   "outputs": [],
   "source": [
    "with open(\"url_file.txt\", \"w\") as text_file:\n",
    "    for num in top_list:\n",
    "        print(f\"http://steamcommunity.com/app/\"+num+\"/reviews/?browsefilter=toprated&snr=1_5_reviews_&p=1\", file=text_file)"
   ]
  },
  {
   "cell_type": "code",
   "execution_count": 5,
   "metadata": {
    "collapsed": true
   },
   "outputs": [],
   "source": [
    "with open(\"url_file_schinese.txt\", \"w\") as text_file:\n",
    "    for num in top_list:\n",
    "        print(f\"http://steamcommunity.com/app/\"+num+\"/reviews/?browsefilter=toprated&snr=1_5_reviews_&p=1&filterLanguage=schinese\", file=text_file)"
   ]
  },
  {
   "cell_type": "code",
   "execution_count": 6,
   "metadata": {
    "collapsed": true
   },
   "outputs": [],
   "source": [
    "with open(\"url_file_tchinese.txt\", \"w\") as text_file:\n",
    "    for num in top_list:\n",
    "        print(f\"http://steamcommunity.com/app/\"+num+\"/reviews/?browsefilter=toprated&snr=1_5_reviews_&p=1&filterLanguage=tchinese\", file=text_file)"
   ]
  }
 ],
 "metadata": {
  "kernelspec": {
   "display_name": "Python 3",
   "language": "python",
   "name": "python3"
  },
  "language_info": {
   "codemirror_mode": {
    "name": "ipython",
    "version": 3
   },
   "file_extension": ".py",
   "mimetype": "text/x-python",
   "name": "python",
   "nbconvert_exporter": "python",
   "pygments_lexer": "ipython3",
   "version": "3.6.3"
  }
 },
 "nbformat": 4,
 "nbformat_minor": 2
}
