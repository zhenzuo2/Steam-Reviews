{
 "cells": [
  {
   "cell_type": "code",
   "execution_count": 1,
   "metadata": {
    "scrolled": false
   },
   "outputs": [],
   "source": [
    "top_list = [\"578080\",\"730\",\"570\",\"359550\",\"230410\",\"624090\",\"552500\",\"238960\",\"252950\",\"346110\"]"
   ]
  },
  {
   "cell_type": "code",
   "execution_count": 2,
   "metadata": {},
   "outputs": [],
   "source": [
    "for num in top_list:\n",
    "    with open(num + \"english\" +\".txt\", \"w\") as text_file:\n",
    "        print(f\"http://steamcommunity.com/app/\"+num+\"/reviews/?browsefilter=toprated&snr=1_5_reviews_&p=1\", file=text_file)"
   ]
  },
  {
   "cell_type": "code",
   "execution_count": 5,
   "metadata": {
    "collapsed": true
   },
   "outputs": [],
   "source": [
    "with open(\"url_file_schinese.txt\", \"w\") as text_file:\n",
    "    for num in top_list:\n",
    "        print(f\"http://steamcommunity.com/app/\"+num+\"/reviews/?browsefilter=toprated&snr=1_5_reviews_&p=1&filterLanguage=schinese\", file=text_file)"
   ]
  },
  {
   "cell_type": "code",
   "execution_count": 6,
   "metadata": {
    "collapsed": true
   },
   "outputs": [],
   "source": [
    "with open(\"url_file_tchinese.txt\", \"w\") as text_file:\n",
    "    for num in top_list:\n",
    "        print(f\"http://steamcommunity.com/app/\"+num+\"/reviews/?browsefilter=toprated&snr=1_5_reviews_&p=1&filterLanguage=tchinese\", file=text_file)"
   ]
  }
 ],
 "metadata": {
  "kernelspec": {
   "display_name": "Python 3",
   "language": "python",
   "name": "python3"
  },
  "language_info": {
   "codemirror_mode": {
    "name": "ipython",
    "version": 3
   },
   "file_extension": ".py",
   "mimetype": "text/x-python",
   "name": "python",
   "nbconvert_exporter": "python",
   "pygments_lexer": "ipython3",
   "version": "3.6.4"
  }
 },
 "nbformat": 4,
 "nbformat_minor": 2
}
